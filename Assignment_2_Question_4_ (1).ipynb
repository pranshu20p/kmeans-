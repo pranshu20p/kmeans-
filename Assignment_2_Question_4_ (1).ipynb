{
  "nbformat": 4,
  "nbformat_minor": 0,
  "metadata": {
    "colab": {
      "name": "Assignment 2  -Question 4 .ipynb",
      "provenance": []
    },
    "kernelspec": {
      "name": "python3",
      "display_name": "Python 3"
    },
    "language_info": {
      "name": "python"
    }
  },
  "cells": [
    {
      "cell_type": "code",
      "metadata": {
        "colab": {
          "base_uri": "https://localhost:8080/"
        },
        "id": "Juzk8-fflBqK",
        "outputId": "cfd3c548-8bf5-41e0-afb3-45f5e59f7241"
      },
      "source": [
        "from google.colab import drive\n",
        "drive.mount('/content/drive')\n"
      ],
      "execution_count": null,
      "outputs": [
        {
          "output_type": "stream",
          "text": [
            "Mounted at /content/drive\n"
          ],
          "name": "stdout"
        }
      ]
    },
    {
      "cell_type": "code",
      "metadata": {
        "colab": {
          "base_uri": "https://localhost:8080/"
        },
        "id": "NW8af_6Elc2r",
        "outputId": "f579a8f1-99ee-488e-e50b-a6a263856890"
      },
      "source": [
        "%matplotlib inline\n",
        "!pip install utils\n",
        "import matplotlib.pyplot as plt \n",
        "import numpy as np\n",
        "from scipy.stats import multivariate_normal as mvn\n",
        "from scipy.stats import norm\n",
        "from scipy.special import logsumexp\n",
        "from sklearn.metrics import normalized_mutual_info_score, silhouette_score, calinski_harabasz_score\n",
        "\n",
        "\n",
        "# from numpy import einsum\n",
        "\n",
        "\n",
        "plt.rc('legend', frameon=False)\n",
        "plt.rc('figure', figsize=(3.3, \n",
        "                         0.66 * 6.7),\n",
        "                dpi=120)\n",
        "plt.rc('savefig', dpi=300)\n",
        "plt.rc('font', size=8)"
      ],
      "execution_count": null,
      "outputs": [
        {
          "output_type": "stream",
          "text": [
            "Collecting utils\n",
            "  Downloading https://files.pythonhosted.org/packages/55/e6/c2d2b2703e7debc8b501caae0e6f7ead148fd0faa3c8131292a599930029/utils-1.0.1-py2.py3-none-any.whl\n",
            "Installing collected packages: utils\n",
            "Successfully installed utils-1.0.1\n"
          ],
          "name": "stdout"
        }
      ]
    },
    {
      "cell_type": "code",
      "metadata": {
        "id": "juqqZ5zsl0yW"
      },
      "source": [
        ""
      ],
      "execution_count": null,
      "outputs": []
    },
    {
      "cell_type": "code",
      "metadata": {
        "id": "8ckFTDf4liyY"
      },
      "source": [
        "from matplotlib.patches import Ellipse\n",
        "import matplotlib.pyplot as plt\n",
        "import numpy as np\n",
        "\n",
        "def plot_cov_ellipse(cov, pos, nstd=2, ax=None, **kwargs):\n",
        "    def eigsorted(cov):\n",
        "        vals, vecs = np.linalg.eigh(cov)\n",
        "        order = vals.argsort()[::-1]\n",
        "        return vals[order], vecs[:,order]\n",
        "\n",
        "    if ax is None:\n",
        "        ax = plt.gca()\n",
        "\n",
        "    vals, vecs = eigsorted(cov)\n",
        "    theta = np.degrees(np.arctan2(*vecs[:,0][::-1]))\n",
        "\n",
        "    # Width and height are \"full\" widths, not radius\n",
        "    width, height = 2 * nstd * np.sqrt(vals)\n",
        "    ellip = Ellipse(xy=pos, width=width, height=height, angle=theta, **kwargs)\n",
        "\n",
        "    ax.add_artist(ellip)\n",
        "    return ellip\n",
        "\n",
        "\n",
        "def plot_clusters(Y, mus, covs, labels, K, ax):\n",
        "    cmap = plt.cm.get_cmap('hsv', K)\n",
        "    colors = ['red', 'blue', 'green']\n",
        "    for j in range(np.unique(labels).shape[0]):\n",
        "        Y_j = Y[(labels == (j))]\n",
        "        print(\"----\", Y_j.shape)\n",
        "        ax.scatter(Y_j[:, 0], Y_j[:, 1], color=colors[j])\n",
        "    for i in range(K):\n",
        "        plot_cov_ellipse(cov=covs[i],\n",
        "                         pos=mus[i],\n",
        "                         nstd=2,\n",
        "                         ax=ax,\n",
        "                         color=cmap(i),\n",
        "                         alpha=0.1)\n"
      ],
      "execution_count": null,
      "outputs": []
    },
    {
      "cell_type": "code",
      "metadata": {
        "id": "LguOLpEmlvE_"
      },
      "source": [
        "url=\"/content/drive/My Drive/UMLAssignment2/gmm_dataset/\"\n",
        "dataset3 = np.loadtxt(url + \"dataset3.txt\",delimiter=\"\\t\")\n",
        "\n",
        "url=\"/content/drive/My Drive/UMLAssignment2/gmm_dataset/\" \n",
        "dataset2 = np.loadtxt(url + \"dataset2.txt\", delimiter=\"\\t\")#dataset 2\n",
        "url=\"/content/drive/My Drive/UMLAssignment2/gmm_dataset/\"\n",
        "dataset1 = np.loadtxt(url + \"dataset1.txt\", delimiter=\"\\t\")#dataset 1\n",
        "url=\"/content/drive/My Drive/UMLAssignment2/gmm_dataset/\"\n",
        "dataset3 = np.loadtxt(url + \"dataset3.txt\", delimiter=\"\\t\")\n",
        "\n",
        "\n",
        "data1 = dataset1[:,0:2]#numerical values from 0 and 1st Column\n",
        "data2 = dataset2[:,0:2]#numerical values from 0 and 1st column\n",
        "data3 = dataset3[:,0:2]\n",
        "\n",
        "labels1 = dataset1[:,2].astype(int)#values of integers in column 2 \n",
        "labels2 = dataset2[:,2].astype(int)\n",
        "labels3 = dataset3[:,2].astype(int)\n"
      ],
      "execution_count": null,
      "outputs": []
    },
    {
      "cell_type": "code",
      "metadata": {
        "colab": {
          "base_uri": "https://localhost:8080/"
        },
        "id": "WI7t4GsYl2rW",
        "outputId": "a512491e-e299-431b-f201-c04109a29937"
      },
      "source": [
        "data1"
      ],
      "execution_count": null,
      "outputs": [
        {
          "output_type": "execute_result",
          "data": {
            "text/plain": [
              "array([[-1.63879970e-01, -2.19868684e-01],\n",
              "       [-8.86273730e-01, -3.56186134e-01],\n",
              "       [-9.78910118e-01, -8.93313889e-01],\n",
              "       [-6.58866726e-01, -3.71121942e-01],\n",
              "       [-7.25176598e-02,  3.99157243e-01],\n",
              "       [-4.28767080e-01, -1.20237470e+00],\n",
              "       [-3.90458694e-01, -8.62252101e-01],\n",
              "       [ 3.00334716e-03,  2.14300292e-01],\n",
              "       [-3.95071205e-01, -5.61381350e-01],\n",
              "       [-1.00918062e+00, -7.69376512e-01],\n",
              "       [-1.23404276e-01,  4.61361808e-02],\n",
              "       [-2.86973455e-01,  4.67501152e-01],\n",
              "       [-5.39529071e-01, -1.02398646e+00],\n",
              "       [-6.84715149e-01, -9.44408213e-01],\n",
              "       [-7.43545059e-01, -6.51788216e-01],\n",
              "       [-5.10736116e-01, -5.05170363e-01],\n",
              "       [-8.58000591e-01, -6.37615361e-01],\n",
              "       [-7.29058495e-01, -7.35546241e-01],\n",
              "       [-1.16486144e+00, -3.60063591e-01],\n",
              "       [-7.31943705e-01, -9.68243465e-01],\n",
              "       [-8.10021456e-01, -5.76010918e-01],\n",
              "       [-2.41666272e-01,  1.24944018e-02],\n",
              "       [ 1.50681007e-01, -2.93453257e-02],\n",
              "       [-3.69170972e-02, -5.09406993e-01],\n",
              "       [-3.18463050e-02, -2.19232404e-01],\n",
              "       [-1.97589451e-01, -4.71721684e-01],\n",
              "       [-2.55555459e-01, -6.10034287e-01],\n",
              "       [-1.64594868e-01,  1.91776822e-01],\n",
              "       [-8.26393912e-01, -7.39753310e-01],\n",
              "       [-1.27380539e-01, -5.37549466e-01],\n",
              "       [-1.03600805e+00, -1.06078976e+00],\n",
              "       [-2.23276089e-01, -3.14697901e-01],\n",
              "       [-8.72266248e-01, -1.26547000e+00],\n",
              "       [-9.34018474e-01, -1.35456383e+00],\n",
              "       [-7.02816194e-01, -5.26699218e-01],\n",
              "       [-1.08258851e+00, -1.29081987e+00],\n",
              "       [-4.92855853e-01, -6.51288763e-01],\n",
              "       [-3.29811575e-03,  4.86632503e-02],\n",
              "       [-6.11523395e-01, -1.98614545e-01],\n",
              "       [-2.78315490e-01,  2.09038416e-01],\n",
              "       [-4.27534630e-01, -8.54769098e-01],\n",
              "       [ 4.19428194e-02,  1.02772363e-01],\n",
              "       [-5.70800880e-01, -4.09417505e-01],\n",
              "       [-3.68979370e-01,  5.05777602e-02],\n",
              "       [ 6.03595429e-01,  1.37064767e-01],\n",
              "       [ 1.26113246e-02,  7.20299801e-02],\n",
              "       [-9.17627337e-01, -2.67517349e-01],\n",
              "       [ 7.86231201e-04, -4.09061852e-01],\n",
              "       [-9.13326763e-01, -8.85233126e-01],\n",
              "       [-4.95569473e-01, -1.01252305e+00],\n",
              "       [ 9.60868729e-01,  1.64866950e+00],\n",
              "       [ 1.15896028e+00,  1.92893234e+00],\n",
              "       [ 6.67658258e-01,  2.23216874e+00],\n",
              "       [ 1.03221310e+00,  1.92326327e+00],\n",
              "       [ 8.40611572e-01,  1.74539304e+00],\n",
              "       [ 8.06941565e-01,  1.52420222e+00],\n",
              "       [ 1.34852616e+00,  1.73528083e+00],\n",
              "       [ 1.36507145e+00,  2.19110311e+00],\n",
              "       [ 1.51353717e+00,  2.65965161e+00],\n",
              "       [ 5.14791165e-01,  2.23434732e+00],\n",
              "       [ 9.39124269e-01,  2.18651869e+00],\n",
              "       [ 1.29296593e+00,  2.02679280e+00],\n",
              "       [ 4.21546633e-01,  1.56840087e+00],\n",
              "       [ 1.86166432e+00,  2.57244135e+00],\n",
              "       [ 1.10431335e+00,  2.41522512e+00],\n",
              "       [ 7.56258595e-01,  2.25545226e+00],\n",
              "       [ 1.46188779e+00,  1.41028816e+00],\n",
              "       [ 1.16866059e+00,  2.06633458e+00],\n",
              "       [ 1.04886047e+00,  1.64999760e+00],\n",
              "       [ 6.95810547e-01,  1.66539131e+00],\n",
              "       [ 2.10492528e-01,  2.27729696e+00],\n",
              "       [ 5.69079414e-01,  1.48340358e+00],\n",
              "       [ 7.11264307e-01,  1.20350022e+00],\n",
              "       [ 1.20237657e+00,  2.16975059e+00],\n",
              "       [ 1.27481196e+00,  2.08919604e+00],\n",
              "       [ 6.48802871e-01,  1.66345773e+00],\n",
              "       [ 1.37037165e+00,  2.52579855e+00],\n",
              "       [ 1.29847796e+00,  2.36849945e+00],\n",
              "       [ 9.43874299e-01,  2.11752917e+00],\n",
              "       [ 5.74597516e-01,  1.68003500e+00],\n",
              "       [ 1.39893241e+00,  2.33505878e+00],\n",
              "       [ 9.41986746e-01,  1.85817060e+00],\n",
              "       [ 5.46755670e-01,  1.84544556e+00],\n",
              "       [ 1.11282618e+00,  2.27972910e+00],\n",
              "       [ 1.23415448e+00,  2.24862593e+00],\n",
              "       [ 3.46339356e-01,  1.41258486e+00],\n",
              "       [ 1.83468196e+00,  2.20935647e+00],\n",
              "       [ 3.89147145e-02,  1.11660599e+00],\n",
              "       [ 2.68699934e-01,  2.02059653e+00],\n",
              "       [ 1.54739799e+00,  2.26360835e+00],\n",
              "       [ 1.14542224e+00,  1.81825642e+00],\n",
              "       [ 8.08184255e-01,  2.16658188e+00],\n",
              "       [ 1.00518593e+00,  1.80474776e+00],\n",
              "       [ 1.32705556e+00,  2.33626463e+00],\n",
              "       [ 6.11808419e-01,  2.39329427e+00],\n",
              "       [ 1.41508558e+00,  2.57073424e+00],\n",
              "       [ 1.31184954e+00,  2.09389403e+00],\n",
              "       [ 9.79808153e-01,  1.94581476e+00],\n",
              "       [ 1.08551222e+00,  2.79300185e+00],\n",
              "       [ 7.18808657e-01,  1.79325424e+00],\n",
              "       [ 2.63468666e+00, -2.59263675e-01],\n",
              "       [ 2.64578657e+00, -1.52993442e-01],\n",
              "       [ 2.91359953e+00, -2.67139360e-01],\n",
              "       [ 2.59628117e+00, -1.54801798e-01],\n",
              "       [ 2.66379167e+00, -1.02816215e+00],\n",
              "       [ 2.64407027e+00, -2.37536558e-01],\n",
              "       [ 3.70255892e+00, -4.81580889e-01],\n",
              "       [ 2.89178991e+00,  7.53596044e-01],\n",
              "       [ 2.10802175e+00, -3.70484265e-01],\n",
              "       [ 1.95554115e+00,  2.60852376e-02],\n",
              "       [ 1.77782173e+00,  2.11796143e-01],\n",
              "       [ 3.32290901e+00, -7.76397032e-01],\n",
              "       [ 2.13376527e+00, -7.78338348e-02],\n",
              "       [ 2.94369652e+00, -9.67104723e-01],\n",
              "       [ 2.73873057e+00, -1.62904448e-01],\n",
              "       [ 1.81722688e+00,  1.40568713e-01],\n",
              "       [ 3.40465013e+00, -2.45127232e-01],\n",
              "       [ 2.74699426e+00, -1.01263148e-01],\n",
              "       [ 3.31399243e+00,  5.79299487e-03],\n",
              "       [ 2.65323527e+00,  5.51090953e-01],\n",
              "       [ 2.58030234e+00,  7.04256411e-03],\n",
              "       [ 2.04414702e+00, -2.51564679e-01],\n",
              "       [ 2.51681499e+00,  8.61419347e-02],\n",
              "       [ 2.56132340e+00,  5.10881386e-01],\n",
              "       [ 1.81976475e+00,  3.03140963e-01],\n",
              "       [ 2.49153941e+00,  1.54355938e-01],\n",
              "       [ 2.57300613e+00, -4.10755094e-01],\n",
              "       [ 2.17749161e+00,  7.45759523e-01],\n",
              "       [ 2.68362740e+00,  6.45892709e-02],\n",
              "       [ 1.95769489e+00,  1.07657946e-01],\n",
              "       [ 2.24341357e+00, -5.20053547e-01],\n",
              "       [ 2.54713282e+00, -2.89884424e-01],\n",
              "       [ 2.22939282e+00, -2.62523610e-01],\n",
              "       [ 2.68863229e+00, -2.85082845e-01],\n",
              "       [ 2.33774691e+00,  2.15444829e-01],\n",
              "       [ 2.10908381e+00,  5.16664928e-01],\n",
              "       [ 2.91662145e+00, -1.48034494e-01],\n",
              "       [ 2.76834697e+00, -1.01751243e-01],\n",
              "       [ 2.75552027e+00,  1.73283296e-02],\n",
              "       [ 2.80639059e+00,  8.74385486e-01],\n",
              "       [ 2.95142659e+00, -9.68537287e-02],\n",
              "       [ 2.94313086e+00, -1.67045121e-01],\n",
              "       [ 2.51506686e+00,  6.03559439e-01],\n",
              "       [ 2.29863312e+00,  1.35365131e-01],\n",
              "       [ 2.45051301e+00, -2.35901984e-01],\n",
              "       [ 3.05358726e+00,  8.41271558e-02],\n",
              "       [ 1.96430068e+00,  1.29239307e-01],\n",
              "       [ 2.24759536e+00,  2.04475951e-01],\n",
              "       [ 2.96658179e+00,  1.06079410e-01],\n",
              "       [ 2.87834347e+00,  1.23745307e-01]])"
            ]
          },
          "metadata": {
            "tags": []
          },
          "execution_count": 6
        }
      ]
    },
    {
      "cell_type": "markdown",
      "metadata": {
        "id": "OpYaUHOlrbrQ"
      },
      "source": [
        "Distance Function based on L2 Norm $$\\sqrt{(x1-x2)^2+(y1-y2)^2}$$  where each A=[x1,y1] and B=[x2,y2]"
      ]
    },
    {
      "cell_type": "code",
      "metadata": {
        "colab": {
          "base_uri": "https://localhost:8080/"
        },
        "id": "zCEmMMN0l59j",
        "outputId": "ef37a8d3-6192-4fc1-ab9b-55bb23c24972"
      },
      "source": [
        "data1.shape\n"
      ],
      "execution_count": null,
      "outputs": [
        {
          "output_type": "execute_result",
          "data": {
            "text/plain": [
              "(150, 2)"
            ]
          },
          "metadata": {
            "tags": []
          },
          "execution_count": 8
        }
      ]
    },
    {
      "cell_type": "code",
      "metadata": {
        "id": "oHYTRwyerW_V"
      },
      "source": [
        "import numpy as np\n",
        "\n",
        "def distfunct(x,y):\n",
        "  z=np.subtract(x,y)\n",
        "  dist1=np.linalg.norm(z)\n",
        "  return dist1\n"
      ],
      "execution_count": null,
      "outputs": []
    },
    {
      "cell_type": "code",
      "metadata": {
        "id": "b5257nuds43T"
      },
      "source": [
        "#function to calculate distance of all points except the point itself (s)\n",
        "def rangequery(z,distfunct,j,epsilon):#q is the point against which we are measuring distances \n",
        "  N=[]\n",
        "  z=z\n",
        "  q=j# assign the index as the point for which we need to calculate the distance from other points \n",
        "  for s in range(z.shape[0]):#let s be set of points in the range\n",
        "    if distfunct(z[s],z[q])<=epsilon:#checks the first criteria\n",
        "          N.append(s)#append only if the the index values are not same ie. the neighbour points  \n",
        "    else:\n",
        "         continue\n",
        "  return N# returns neigbhours meeting criteria 1 \n"
      ],
      "execution_count": null,
      "outputs": []
    },
    {
      "cell_type": "code",
      "metadata": {
        "colab": {
          "base_uri": "https://localhost:8080/",
          "height": 505
        },
        "id": "u36H3PH6tDTS",
        "outputId": "9493043b-3ca4-436a-fe41-c6a258d6a9a0"
      },
      "source": [
        "import pdb\n",
        "def functionDBscannew(z,distfunct,epsilon,minpts):\n",
        "  z=z\n",
        "  epsilon=epsilon\n",
        "  minpts=minpts\n",
        "  cluster=np.zeros([1,z.shape[0]])# vector of 1 row and n columns \n",
        "  c=0\n",
        "  for i in range(z.shape[0]):#iterate over all the points \n",
        "      if cluster[0,i]!=0:#Means cluster is labeled \n",
        "         continue # skip all the the below steps \n",
        "      index=rangequery(z,distfunct,i,epsilon)# run the query to find distances between all the  points\n",
        "      if len(index)<minpts:#length of Neigbhourhood less than threshold \n",
        "          cluster[0,i]=-1# represents noise \n",
        "          continue# skip below process as we have identified noise elements for given point \n",
        "      revised_set=index#set of neighbour hood sets \n",
        "      c=c+1  #Add cluster number\n",
        "      cluster[0,i]=c\n",
        "      for m in revised_set:#all indexes  in density reachable points\n",
        "             if cluster[0,m]==-1:\n",
        "                cluster[0,m]=c#new label as outer point\n",
        "                continue\n",
        "             if cluster[0,m]!=0:#cluster is not undefined then (or if cluster is defined then we skip and move to next set)\n",
        "                continue\n",
        "             cluster[0,m]=c# relabel again direct connected points\n",
        "             Index_new=rangequery(z,distfunct,m,epsilon)\n",
        "             if (len(Index_new))<minpts:\n",
        "                  continue\n",
        "             else:\n",
        "               revised_set.extend(Index_new)\n",
        "                  # break the loop and move on to new  point  in original for loop\n",
        "     \n",
        "  return cluster\n",
        "#\n",
        "p=functionDBscannew(data1,distfunct,epsilon=0.2,minpts=2)\n",
        "Z=data1\n",
        "p2=np.array(p)[0]\n",
        "import matplotlib.pyplot as plt\n",
        "plt.scatter(Z[p2==1,0],Z[p2==1,1])\n",
        "plt.scatter(Z[p2==-1,0],Z[p2==-1,1])\n",
        "plt.scatter(Z[p2==2,0],Z[p2==2,1])\n",
        "plt.scatter(Z[p2==3,0],Z[p2==3,1])\n",
        "plt.title('DBSAN Clustering')\n",
        "plt.legend(loc='upper right')\n",
        "plt.show()"
      ],
      "execution_count": null,
      "outputs": [
        {
          "output_type": "stream",
          "text": [
            "No handles with labels found to put in legend.\n"
          ],
          "name": "stderr"
        },
        {
          "output_type": "display_data",
          "data": {
            "image/png": "[encoded data removed]",
            "text/plain": [
              "<Figure size 396x530.64 with 1 Axes>"
            ]
          },
          "metadata": {
            "tags": [],
            "needs_background": "light"
          }
        }
      ]
    },
    {
      "cell_type": "code",
      "metadata": {
        "colab": {
          "base_uri": "https://localhost:8080/"
        },
        "id": "raad7_-L4I1C",
        "outputId": "2b4936b9-1532-4e0f-c517-8aefda8c3d14"
      },
      "source": [
        "from collections import defaultdict\n",
        "import pandas as pd\n",
        "\n",
        "epsilon=[0.2,0.3,0.4]\n",
        "Minpoints=[2,3,4]\n",
        "\n",
        "\n",
        "score1=normalized_mutual_info_score(labels_true=labels1,labels_pred=p2)\n",
        "r=defaultdict(list)\n",
        "container=np.zeros([data1.shape[0],len(epsilon),len(Minpoints)])\n",
        "score_container=np.zeros([len(epsilon),len(Minpoints)])\n",
        "score2_container=np.zeros([len(epsilon),len(Minpoints)])\n",
        "data=[]\n",
        "counter=0\n",
        "for i in range(len(epsilon)):\n",
        "  for k  in range(len(Minpoints)):\n",
        "     p=functionDBscannew(data1,distfunct,epsilon[i],Minpoints[k])\n",
        "     p2=np.array(p)[0]\n",
        "     score1=normalized_mutual_info_score(labels_true=labels1,labels_pred=p2)\n",
        "     score2=silhouette_score(data1, p2, metric='euclidean')\n",
        "     score3=calinski_harabasz_score(data1,p2)\n",
        "     score_container[i,k]=score1\n",
        "     score2_container[i,k]=score2\n",
        "     r[counter].append(score1)\n",
        "     r[counter].append(Minpoints[k])\n",
        "     r[counter].append(epsilon[i])\n",
        "     r[counter].append(score2)\n",
        "     r[counter].append(score3)\n",
        "     counter=counter+1\n",
        "score_container\n",
        "p=np.where(score_container == np.max(score_container))\n",
        "print(p[0],p[1])\n",
        "#Hence the hyper parameters choosen are :\n",
        "print(\"The optimum parameters choosen for epsilon based on Normalized Mutual Score is   \",epsilon[p[0][0]],\" and value of Min points is \",Minpoints[p[1][0]])\n",
        "\n",
        "df=pd.DataFrame(r.values())\n",
        "df2=df.rename(columns={0:'NHIscore',1:'Min Points',2:'Epsilon',3:'Silhouttes Score',4:'CH Sc'})\n",
        "print(df2)"
      ],
      "execution_count": null,
      "outputs": [
        {
          "output_type": "stream",
          "text": [
            "[2] [1]\n",
            "The optimum parameters choosen for epsilon based on Normalized Mutual Score is    0.4  and value of Min points is  3\n",
            "   NHIscore  Min Points  Epsilon  Silhouttes Score       CH Sc\n",
            "0  0.620469           2      0.2          0.278685   56.398911\n",
            "1  0.617866           3      0.2          0.282963   57.485186\n",
            "2  0.588435           4      0.2          0.208857   43.836197\n",
            "3  0.796711           2      0.3          0.369168  121.574713\n",
            "4  0.807066           3      0.3          0.454579  175.986968\n",
            "5  0.810891           4      0.3          0.548633  222.537802\n",
            "6  0.924552           2      0.4          0.571100  286.633739\n",
            "7  0.925131           3      0.4          0.648442  351.590560\n",
            "8  0.916846           4      0.4          0.648147  344.058036\n"
          ],
          "name": "stdout"
        }
      ]
    },
    {
      "cell_type": "code",
      "metadata": {
        "id": "LK4uoGg_O6v_"
      },
      "source": [
        "from collections import defaultdict\n",
        "import pandas as pd\n",
        "\n",
        "epsilon=[0.8,0.85,0.4]\n",
        "Minpoints=[6,7,8]\n",
        "\n",
        "def clusterevaluation(epsilon,Minpoints,data,labels):\n",
        "  r=defaultdict(list)\n",
        "  container=np.zeros([data.shape[0],len(epsilon),len(Minpoints)])\n",
        "  score_container=np.zeros([len(epsilon),len(Minpoints)])\n",
        "  score2_container=np.zeros([len(epsilon),len(Minpoints)])\n",
        "  counter=0\n",
        "  for i in range(len(epsilon)):\n",
        "    for k  in range(len(Minpoints)):\n",
        "      p=functionDBscannew(data,distfunct,epsilon[i],Minpoints[k])\n",
        "      p2=np.array(p)[0]\n",
        "      score1=normalized_mutual_info_score(labels_true=labels,labels_pred=p2)\n",
        "      score2=silhouette_score(data, p2, metric='euclidean')\n",
        "      score3=calinski_harabasz_score(data,p2)\n",
        "      score_container[i,k]=score1\n",
        "      score2_container[i,k]=score2\n",
        "      r[counter].append(score1)\n",
        "      r[counter].append(Minpoints[k])\n",
        "      r[counter].append(epsilon[i])\n",
        "      r[counter].append(score2)\n",
        "      r[counter].append(score3)\n",
        "      counter=counter+1\n",
        "  score_container\n",
        "  p=np.where(score_container == np.max(score_container))\n",
        "  print(p[0],p[1])\n",
        "  #Hence the hyper parameters choosen are :\n",
        "  print(\"The optimum parameters choosen for epsilon based on Normalized Mutual Score is   \",epsilon[p[0][0]],\" and value of Min points is \",Minpoints[p[1][0]])\n",
        "\n",
        "  df=pd.DataFrame(r.values())\n",
        "  df2=df.rename(columns={0:'NHIscore',1:'Min Points',2:'Epsilon',3:'Silhouttes Score',4:'CH Sc'})\n",
        "  return df2 "
      ],
      "execution_count": null,
      "outputs": []
    },
    {
      "cell_type": "code",
      "metadata": {
        "colab": {
          "base_uri": "https://localhost:8080/",
          "height": 366
        },
        "id": "MFJD1tOvQOUL",
        "outputId": "b05531fd-97df-452c-cda1-0f950aa46c29"
      },
      "source": [
        "df2=clusterevaluation(epsilon,Minpoints,data2,labels2)\n",
        "df2"
      ],
      "execution_count": null,
      "outputs": [
        {
          "output_type": "stream",
          "text": [
            "[1] [0]\n",
            "The optimum parameters choosen for epsilon based on Normalized Mutual Score is    0.85  and value of Min points is  6\n"
          ],
          "name": "stdout"
        },
        {
          "output_type": "execute_result",
          "data": {
            "text/html": [
              "<div>\n",
              "<style scoped>\n",
              "    .dataframe tbody tr th:only-of-type {\n",
              "        vertical-align: middle;\n",
              "    }\n",
              "\n",
              "    .dataframe tbody tr th {\n",
              "        vertical-align: top;\n",
              "    }\n",
              "\n",
              "    .dataframe thead th {\n",
              "        text-align: right;\n",
              "    }\n",
              "</style>\n",
              "<table border=\"1\" class=\"dataframe\">\n",
              "  <thead>\n",
              "    <tr style=\"text-align: right;\">\n",
              "      <th></th>\n",
              "      <th>NHIscore</th>\n",
              "      <th>Min Points</th>\n",
              "      <th>Epsilon</th>\n",
              "      <th>Silhouttes Score</th>\n",
              "      <th>CH Sc</th>\n",
              "    </tr>\n",
              "  </thead>\n",
              "  <tbody>\n",
              "    <tr>\n",
              "      <th>0</th>\n",
              "      <td>0.923089</td>\n",
              "      <td>6</td>\n",
              "      <td>0.80</td>\n",
              "      <td>0.523033</td>\n",
              "      <td>236.814941</td>\n",
              "    </tr>\n",
              "    <tr>\n",
              "      <th>1</th>\n",
              "      <td>0.898193</td>\n",
              "      <td>7</td>\n",
              "      <td>0.80</td>\n",
              "      <td>0.516998</td>\n",
              "      <td>240.163438</td>\n",
              "    </tr>\n",
              "    <tr>\n",
              "      <th>2</th>\n",
              "      <td>0.885215</td>\n",
              "      <td>8</td>\n",
              "      <td>0.80</td>\n",
              "      <td>0.504435</td>\n",
              "      <td>237.491429</td>\n",
              "    </tr>\n",
              "    <tr>\n",
              "      <th>3</th>\n",
              "      <td>0.932188</td>\n",
              "      <td>6</td>\n",
              "      <td>0.85</td>\n",
              "      <td>0.527310</td>\n",
              "      <td>238.750599</td>\n",
              "    </tr>\n",
              "    <tr>\n",
              "      <th>4</th>\n",
              "      <td>0.901211</td>\n",
              "      <td>7</td>\n",
              "      <td>0.85</td>\n",
              "      <td>0.519034</td>\n",
              "      <td>243.498141</td>\n",
              "    </tr>\n",
              "    <tr>\n",
              "      <th>5</th>\n",
              "      <td>0.895326</td>\n",
              "      <td>8</td>\n",
              "      <td>0.85</td>\n",
              "      <td>0.513022</td>\n",
              "      <td>238.734590</td>\n",
              "    </tr>\n",
              "    <tr>\n",
              "      <th>6</th>\n",
              "      <td>0.804103</td>\n",
              "      <td>6</td>\n",
              "      <td>0.40</td>\n",
              "      <td>0.329096</td>\n",
              "      <td>151.834199</td>\n",
              "    </tr>\n",
              "    <tr>\n",
              "      <th>7</th>\n",
              "      <td>0.826892</td>\n",
              "      <td>7</td>\n",
              "      <td>0.40</td>\n",
              "      <td>0.302779</td>\n",
              "      <td>165.472547</td>\n",
              "    </tr>\n",
              "    <tr>\n",
              "      <th>8</th>\n",
              "      <td>0.881770</td>\n",
              "      <td>8</td>\n",
              "      <td>0.40</td>\n",
              "      <td>0.334222</td>\n",
              "      <td>218.283285</td>\n",
              "    </tr>\n",
              "  </tbody>\n",
              "</table>\n",
              "</div>"
            ],
            "text/plain": [
              "   NHIscore  Min Points  Epsilon  Silhouttes Score       CH Sc\n",
              "0  0.923089           6     0.80          0.523033  236.814941\n",
              "1  0.898193           7     0.80          0.516998  240.163438\n",
              "2  0.885215           8     0.80          0.504435  237.491429\n",
              "3  0.932188           6     0.85          0.527310  238.750599\n",
              "4  0.901211           7     0.85          0.519034  243.498141\n",
              "5  0.895326           8     0.85          0.513022  238.734590\n",
              "6  0.804103           6     0.40          0.329096  151.834199\n",
              "7  0.826892           7     0.40          0.302779  165.472547\n",
              "8  0.881770           8     0.40          0.334222  218.283285"
            ]
          },
          "metadata": {
            "tags": []
          },
          "execution_count": 111
        }
      ]
    },
    {
      "cell_type": "code",
      "metadata": {
        "id": "yMvGS8phXByH"
      },
      "source": [
        "from collections import defaultdict\n",
        "import pandas as pd\n",
        "\n",
        "epsilon=[0.8,0.85,0.4]\n",
        "Minpoints=[6,7,8]\n",
        "\n",
        "def clusterevaluation(epsilon,Minpoints,data,labels):\n",
        "  r=defaultdict(list)\n",
        "  container=np.zeros([data.shape[0],len(epsilon),len(Minpoints)])\n",
        "  score_container=np.zeros([len(epsilon),len(Minpoints)])\n",
        "  score2_container=np.zeros([len(epsilon),len(Minpoints)])\n",
        "  counter=0\n",
        "  for i in range(len(epsilon)):\n",
        "    for k  in range(len(Minpoints)):\n",
        "      p=functionDBscannew(data,distfunct,epsilon[i],Minpoints[k])\n",
        "      p2=np.array(p)[0]\n",
        "      score1=normalized_mutual_info_score(labels_true=labels,labels_pred=p2)\n",
        "      score_container[i,k]=score1\n",
        "      score2_container[i,k]=score2\n",
        "      r[counter].append(score1)\n",
        "      r[counter].append(Minpoints[k])\n",
        "      r[counter].append(epsilon[i])\n",
        "      counter=counter+1\n",
        "  score_container\n",
        "  p=np.where(score_container == np.max(score_container))\n",
        "  print(p[0],p[1])\n",
        "  #Hence the hyper parameters choosen are :\n",
        "  print(\"The optimum parameters choosen for epsilon is  \",epsilon[p[0][0]],\" and value of Min points is \",Minpoints[p[1][0]])\n",
        "\n",
        "  df=pd.DataFrame(r.values())\n",
        "  df2=df.rename(columns={0:'NHIscore',1:'Min Points',2:'Epsilon',3:'Silhouttes Score',4:'CH Sc'})\n",
        "  return df2 "
      ],
      "execution_count": null,
      "outputs": []
    },
    {
      "cell_type": "code",
      "metadata": {
        "colab": {
          "base_uri": "https://localhost:8080/",
          "height": 470
        },
        "id": "q7IcmDVpVR94",
        "outputId": "6b0f09c9-b1c9-43bd-f8e4-b1b06f0626db"
      },
      "source": [
        "print(labels3)\n",
        "\n",
        "\n",
        "epsilon=[0.2,0.3,0.4]\n",
        "Minpoints=[5,6,7]\n",
        "df3=clusterevaluation(epsilon,Minpoints,data3,labels3)\n",
        "df3"
      ],
      "execution_count": null,
      "outputs": [
        {
          "output_type": "stream",
          "text": [
            "[1 1 1 1 1 1 1 1 1 1 1 1 1 1 1 1 1 1 1 1 1 1 1 1 1 1 1 1 1 1 1 1 1 1 1 1 1\n",
            " 1 1 1 1 1 1 1 1 1 1 1 1 1 1 1 1 1 1 1 1 1 1 1 1 1 1 1 1 1 1 1 1 1 1 1 1 1\n",
            " 1 1 1 1 1 1 1 1 1 1 1 1 1 1 1 1 1 1 1 1 1 1 1 1 1 1 2 2 2 2 2 2 2 2 2 2 2\n",
            " 2 2 2 2 2 2 2 2 2 2 2 2 2 2 2 2 2 2 2 2 2 2 2 2 2 2 2 2 2 2 2 2 2 2 2 2 2\n",
            " 2 2 2 2 2 2 2 2 2 2 2 2 2 2 2 2 2 2 2 2 2 2 2 2 2 2 2 2 2 2 2 2 2 2 2 2 2\n",
            " 2 2 2 2 2 2 2 2 2 2 2 2 2 2 2]\n",
            "[1 1 1] [0 1 2]\n",
            "The optimum parameters choosen for epsilon is   0.3  and value of Min points is  5\n"
          ],
          "name": "stdout"
        },
        {
          "output_type": "execute_result",
          "data": {
            "text/html": [
              "<div>\n",
              "<style scoped>\n",
              "    .dataframe tbody tr th:only-of-type {\n",
              "        vertical-align: middle;\n",
              "    }\n",
              "\n",
              "    .dataframe tbody tr th {\n",
              "        vertical-align: top;\n",
              "    }\n",
              "\n",
              "    .dataframe thead th {\n",
              "        text-align: right;\n",
              "    }\n",
              "</style>\n",
              "<table border=\"1\" class=\"dataframe\">\n",
              "  <thead>\n",
              "    <tr style=\"text-align: right;\">\n",
              "      <th></th>\n",
              "      <th>NHIscore</th>\n",
              "      <th>Min Points</th>\n",
              "      <th>Epsilon</th>\n",
              "    </tr>\n",
              "  </thead>\n",
              "  <tbody>\n",
              "    <tr>\n",
              "      <th>0</th>\n",
              "      <td>7.889333e-01</td>\n",
              "      <td>5</td>\n",
              "      <td>0.2</td>\n",
              "    </tr>\n",
              "    <tr>\n",
              "      <th>1</th>\n",
              "      <td>7.593815e-01</td>\n",
              "      <td>6</td>\n",
              "      <td>0.2</td>\n",
              "    </tr>\n",
              "    <tr>\n",
              "      <th>2</th>\n",
              "      <td>7.593815e-01</td>\n",
              "      <td>7</td>\n",
              "      <td>0.2</td>\n",
              "    </tr>\n",
              "    <tr>\n",
              "      <th>3</th>\n",
              "      <td>1.000000e+00</td>\n",
              "      <td>5</td>\n",
              "      <td>0.3</td>\n",
              "    </tr>\n",
              "    <tr>\n",
              "      <th>4</th>\n",
              "      <td>1.000000e+00</td>\n",
              "      <td>6</td>\n",
              "      <td>0.3</td>\n",
              "    </tr>\n",
              "    <tr>\n",
              "      <th>5</th>\n",
              "      <td>1.000000e+00</td>\n",
              "      <td>7</td>\n",
              "      <td>0.3</td>\n",
              "    </tr>\n",
              "    <tr>\n",
              "      <th>6</th>\n",
              "      <td>2.562741e-15</td>\n",
              "      <td>5</td>\n",
              "      <td>0.4</td>\n",
              "    </tr>\n",
              "    <tr>\n",
              "      <th>7</th>\n",
              "      <td>2.562741e-15</td>\n",
              "      <td>6</td>\n",
              "      <td>0.4</td>\n",
              "    </tr>\n",
              "    <tr>\n",
              "      <th>8</th>\n",
              "      <td>2.562741e-15</td>\n",
              "      <td>7</td>\n",
              "      <td>0.4</td>\n",
              "    </tr>\n",
              "  </tbody>\n",
              "</table>\n",
              "</div>"
            ],
            "text/plain": [
              "       NHIscore  Min Points  Epsilon\n",
              "0  7.889333e-01           5      0.2\n",
              "1  7.593815e-01           6      0.2\n",
              "2  7.593815e-01           7      0.2\n",
              "3  1.000000e+00           5      0.3\n",
              "4  1.000000e+00           6      0.3\n",
              "5  1.000000e+00           7      0.3\n",
              "6  2.562741e-15           5      0.4\n",
              "7  2.562741e-15           6      0.4\n",
              "8  2.562741e-15           7      0.4"
            ]
          },
          "metadata": {
            "tags": []
          },
          "execution_count": 114
        }
      ]
    },
    {
      "cell_type": "code",
      "metadata": {
        "id": "ZlT22_jOxjcu"
      },
      "source": [
        "# for first data set we find optimum values at:0.4 and 3"
      ],
      "execution_count": null,
      "outputs": []
    },
    {
      "cell_type": "code",
      "metadata": {
        "id": "v67K1RAYyv7u"
      },
      "source": [
        "p=functionDBscannew(data1,distfunct,0.4,3)\n",
        "p2=np.array(p)[0]"
      ],
      "execution_count": null,
      "outputs": []
    },
    {
      "cell_type": "code",
      "metadata": {
        "colab": {
          "base_uri": "https://localhost:8080/",
          "height": 624
        },
        "id": "ICAQdISKiCXi",
        "outputId": "b33cf8b0-1005-4392-b1e7-3c8c805b1f57"
      },
      "source": [
        "\n",
        "def plot(data,distfunct,epsilon):\n",
        "  p=functionDBscannew(data1,distfunct,0.4,3)\n",
        "  p2=np.array(p)[0]\n",
        "  fig, axs = plt.subplots(1,2)\n",
        "  fig.set_size_inches(10,4)\n",
        "  axs[0].plot(data1[p2==1,0],data1[p2==1,1],'.')\n",
        "  axs[0].plot(data1[p2==2,0],data1[p2==2,1],'.')\n",
        "  axs[0].plot(data1[p2==3,0],data1[p2==3,1],'.')\n",
        "  axs[0].set_title(\" Predicted Labels\")\n",
        "\n",
        "  def scatter_plot(ax, data, labels):\n",
        "    K = len(np.unique(labels))#Length of Unique labels i.e K=3\n",
        "    for k in range(K):\n",
        "        idx_k = labels == (k + 1)#removing 0\n",
        "        data_k = data[idx_k]#ids\n",
        "        ax.plot(data_k[:,0], data_k[:,1], \".\", label=k)\n",
        "\n",
        "  scatter_plot(axs[1], data1, labels1)\n",
        "  axs[1].set_title(\"Actual Labels\")\n",
        "  return \n"
      ],
      "execution_count": null,
      "outputs": [
        {
          "output_type": "stream",
          "text": [
            "[ 1.  1.  1.  1.  1.  1.  1.  1.  1.  1.  1.  1.  1.  1.  1.  1.  1.  1.\n",
            "  1.  1.  1.  1.  1.  1.  1.  1.  1.  1.  1.  1.  1.  1.  1.  1.  1.  1.\n",
            "  1.  1.  1.  1.  1.  1.  1.  1. -1.  1.  1.  1.  1.  1.  2.  2.  2.  2.\n",
            "  2.  2.  2.  2.  2.  2.  2.  2.  2.  2.  2.  2.  2.  2.  2.  2.  2.  2.\n",
            "  2.  2.  2.  2.  2.  2.  2.  2.  2.  2.  2.  2.  2.  2.  2. -1.  2.  2.\n",
            "  2.  2.  2.  2.  2.  2.  2.  2.  2.  2.  3.  3.  3.  3. -1.  3.  3.  3.\n",
            "  3.  3.  3. -1.  3. -1.  3.  3.  3.  3.  3.  3.  3.  3.  3.  3.  3.  3.\n",
            "  3.  3.  3.  3.  3.  3.  3.  3.  3.  3.  3.  3.  3.  3.  3.  3.  3.  3.\n",
            "  3.  3.  3.  3.  3.  3.]\n"
          ],
          "name": "stdout"
        },
        {
          "output_type": "execute_result",
          "data": {
            "text/plain": [
              "Text(0.5, 1.0, 'Actual Labels')"
            ]
          },
          "metadata": {
            "tags": []
          },
          "execution_count": 165
        },
        {
          "output_type": "display_data",
          "data": {
            "image/png": "[encoded data removed]",
            "text/plain": [
              "<Figure size 1200x480 with 2 Axes>"
            ]
          },
          "metadata": {
            "tags": [],
            "needs_background": "light"
          }
        }
      ]
    },
    {
      "cell_type": "code",
      "metadata": {
        "colab": {
          "base_uri": "https://localhost:8080/",
          "height": 450
        },
        "id": "HcyK2XE4vcTm",
        "outputId": "33d43149-8fa9-4b5a-9381-215b5587d6ed"
      },
      "source": [
        "def plot(data,distfunct,epsilon,minpts,labels):\n",
        "  p=functionDBscannew(data,distfunct,epsilon,minpts)\n",
        "  p2=np.array(p)[0]\n",
        "  fig, axs = plt.subplots(1,2)\n",
        "  fig.set_size_inches(10,4)\n",
        "  axs[0].plot(data[p2==1,0],data[p2==1,1],'.')\n",
        "  axs[0].plot(data[p2==2,0],data[p2==2,1],'.')\n",
        "  axs[0].plot(data[p2==3,0],data[p2==3,1],'.')\n",
        "  axs[0].set_title(\" Predicted Labels\")\n",
        "\n",
        "  def scatter_plot(ax, data, labels):\n",
        "    K = len(np.unique(labels))#Length of Unique labels i.e K=3\n",
        "    for k in range(K):\n",
        "        idx_k = labels == (k + 1)#removing 0\n",
        "        data_k = data[idx_k]#ids\n",
        "        ax.plot(data_k[:,0], data_k[:,1], \".\", label=k)\n",
        "\n",
        "  scatter_plot(axs[1], data, labels)\n",
        "  axs[1].set_title(\"Actual Labels\")\n",
        "  return \n",
        "#Plotting as per best NHI score \n",
        "plot(data2,distfunct,0.85,6,labels2)"
      ],
      "execution_count": null,
      "outputs": [
        {
          "output_type": "display_data",
          "data": {
            "image/png": "[encoded data removed]",
            "text/plain": [
              "<Figure size 1200x480 with 2 Axes>"
            ]
          },
          "metadata": {
            "tags": [],
            "needs_background": "light"
          }
        }
      ]
    },
    {
      "cell_type": "code",
      "metadata": {
        "colab": {
          "base_uri": "https://localhost:8080/",
          "height": 450
        },
        "id": "0hs-zsmG1wUR",
        "outputId": "642a6a72-4afc-4bf6-ed6d-2e2ac47943ab"
      },
      "source": [
        "plot(data3,distfunct,0.3,5,labels3)"
      ],
      "execution_count": null,
      "outputs": [
        {
          "output_type": "display_data",
          "data": {
            "image/png": "[encoded data removed]",
            "text/plain": [
              "<Figure size 1200x480 with 2 Axes>"
            ]
          },
          "metadata": {
            "tags": [],
            "needs_background": "light"
          }
        }
      ]
    }
  ]
}